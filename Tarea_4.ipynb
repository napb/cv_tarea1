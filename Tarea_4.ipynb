{
 "cells": [
  {
   "cell_type": "markdown",
   "metadata": {
    "pycharm": {
     "name": "#%% md\n"
    }
   },
   "source": [
    "## Introducción a la Visión Computacional\n",
    "## Tarea 4\n",
    "-----------------------\n",
    "<div align=\"right\">\n",
    "Fecha de Entrega: Martes 17, Mayo 2022.\n",
    "</div>"
   ]
  },
  {
   "cell_type": "markdown",
   "metadata": {
    "pycharm": {
     "name": "#%% md\n"
    }
   },
   "source": [
    "1. Proponer mejoras al sistema diseñado e implementado originalmete.\n",
    "\n",
    "2. Volver a investigar y averiguar si hay algún algoritmo entrenado o bien si se puede extender el algoritmo utilizado trabajado en la Tarea 2.\n",
    "\n",
    "3. Escribir un informe o entregar el notebook con comentarios y documentación, incluyendo el análisis (comentando) de la comparación con los resultados de la Tarea 2. Notar que pudiera ser que el resultado es inferior al de la Tarea 2, lo importante es el comentario o discusión del por qué se mejoró o empeoraron los nuevos resultados."
   ]
  },
  {
   "cell_type": "markdown",
   "metadata": {
    "pycharm": {
     "name": "#%% md\n"
    }
   },
   "source": [
    "# Base de datos de patentes de vehiculos de Chile\n",
    "\n",
    "Base de datos recopilada por mi, en imagenes de Google, las cuales fueran fotografias de patentes de vehiculos chilenos, con esto me gustaria realizar un posterior analisis, obteniendo las letras y numeros para consultar en [autoseguro.gob.cl](https://www.autoseguro.gob.cl) de carabineros y policia de investigaciones, con el objetivo de verificar si un vehiculo tiene encargo por robo.\n",
    "\n",
    "En este caso para el pre-procesamiento de imagenes, se aplica el filtro sobel, para poder obtener la deteccion de bordes, con esto podemos tener la capacidad de detectar medianamente bien las letras y numeros de las patentes. Obteniendo estos datos, podria verificar si estos estan con encargo por robo y asi poder informar que el vehiculo fue visto por ultima vez en una locacion especifica"
   ]
  },
  {
   "cell_type": "markdown",
   "source": [
    "## Definicion funciones para pipeline de procesamiento, conversion y reconocimiento de imagenes\n",
    "Define funciones intermedias para ser referenciadas desde funcion de ejecucion de pipeline\n",
    "- obtencion de imagenes desde classpath de proyecto ```get_image_list_from_path(path, extension)```\n",
    "- pre-procesamiento de imagenes obtenidas en punto anterior con ```save_resized_images_resx_resy```\n",
    "- procesamiento de imagenes con filtro sobel ```sobel_filter```\n",
    "- reconocimiento de figuras en imagenes ```detect_vehicle_license_plate```\n",
    "- reconocimiento optico de caracteres, para llevar a archivo de texto las patentes reconocidas ```ocr_vehicle_license_plate```"
   ],
   "metadata": {
    "collapsed": false,
    "pycharm": {
     "name": "#%% md\n"
    }
   }
  },
  {
   "cell_type": "code",
   "execution_count": 1,
   "metadata": {
    "pycharm": {
     "name": "#%%\n"
    }
   },
   "outputs": [],
   "source": [
    "import os\n",
    "\n",
    "import numpy as np\n",
    "from PIL import Image\n",
    "from numpy import *\n",
    "from scipy.ndimage import sobel\n",
    "from matplotlib import pyplot as plt\n",
    "import cv2\n",
    "import time\n",
    "from pathlib import Path\n",
    "import shutil\n",
    "import pytesseract\n",
    "import glob"
   ]
  },
  {
   "cell_type": "markdown",
   "source": [
    "# Functiones utilitarias"
   ],
   "metadata": {
    "collapsed": false,
    "pycharm": {
     "name": "#%% md\n"
    }
   }
  },
  {
   "cell_type": "code",
   "execution_count": 2,
   "outputs": [],
   "source": [
    "def stopwatch(sec, function_name):\n",
    "  mins = sec // 60\n",
    "  sec = sec % 60\n",
    "  hours = mins // 60\n",
    "  mins = mins % 60\n",
    "  print(\"Time Lapsed = {0}:{1}:{2} in function '{3}'\".format(int(hours), int(mins), sec, function_name))"
   ],
   "metadata": {
    "collapsed": false,
    "pycharm": {
     "name": "#%%\n"
    }
   }
  },
  {
   "cell_type": "code",
   "execution_count": 3,
   "outputs": [],
   "source": [
    "def delete_dir(path_directory):\n",
    "    dir_path = Path(path_directory)\n",
    "    if dir_path.exists() and dir_path.is_dir():\n",
    "        shutil.rmtree(dir_path)"
   ],
   "metadata": {
    "collapsed": false,
    "pycharm": {
     "name": "#%%\n"
    }
   }
  },
  {
   "cell_type": "code",
   "execution_count": 23,
   "outputs": [],
   "source": [
    "def delete_file(path_file):\n",
    "    if os.path.exists(path_file):\n",
    "        os.remove(path_file)"
   ],
   "metadata": {
    "collapsed": false,
    "pycharm": {
     "name": "#%%\n"
    }
   }
  },
  {
   "cell_type": "markdown",
   "source": [],
   "metadata": {
    "collapsed": false,
    "pycharm": {
     "name": "#%% md\n"
    }
   }
  },
  {
   "cell_type": "markdown",
   "metadata": {
    "pycharm": {
     "name": "#%% md\n"
    }
   },
   "source": [
    "# Funciones de pipeline"
   ]
  },
  {
   "cell_type": "code",
   "execution_count": 24,
   "metadata": {
    "pycharm": {
     "name": "#%%\n"
    }
   },
   "outputs": [],
   "source": [
    "'''\n",
    "Obtiene las imagenes definidas en el classpath del proyecto, con los formatos que se establecen en el segundo parametro\n",
    "    - path: direccion donde estaran alojadas las imagenes a procesar\n",
    "    - extension: lista de extensiones que seran tomadas en cuenta para obtencion de imagenes\n",
    "    - limit: limite de imagenes que obtendra desde el parametro path\n",
    "'''\n",
    "def get_image_list_from_path(path, extension, limit = -1):\n",
    "    l = []\n",
    "    for ex in extension:\n",
    "        for f in os.listdir(path):\n",
    "            if f.endswith(ex):\n",
    "                l.append(os.path.join(path,f))\n",
    "\n",
    "    if limit != -1:\n",
    "        return l[:limit]\n",
    "\n",
    "    return l"
   ]
  },
  {
   "cell_type": "code",
   "execution_count": 25,
   "metadata": {
    "pycharm": {
     "name": "#%%\n"
    }
   },
   "outputs": [],
   "source": [
    "#img_from_path = get_image_list_from_path(\"patentes\", [\".png\", \".jpeg\"])"
   ]
  },
  {
   "cell_type": "markdown",
   "metadata": {
    "pycharm": {
     "name": "#%% md\n"
    }
   },
   "source": []
  },
  {
   "cell_type": "code",
   "execution_count": 26,
   "metadata": {
    "pycharm": {
     "name": "#%%\n"
    }
   },
   "outputs": [],
   "source": [
    "'''\n",
    "Guarda las imagenes que ya fueron guardadas en el classpath, con una resolucion diferente\n",
    "    - x: resolucion al eje x\n",
    "    - y: resolucion al eje y\n",
    "    - img_list: lista de imagenes que seran procesadas a la resolucion pasada en los parametros x e y\n",
    "'''\n",
    "def save_resized_images_resx_resy(x, y, img_list):\n",
    "    os.makedirs(\"out/out{}x{}/patentes\".format(x, y), exist_ok=True)\n",
    "\n",
    "    for img in img_list:\n",
    "        Image.open(img).convert('RGB').resize((x, y))\\\n",
    "            .save(\"out/out{}x{}/{}\".format(x, y, img))\n",
    "\n",
    "    return get_image_list_from_path(\"out/out{}x{}/patentes\".format(x, y), [\".png\", \".jpeg\"])"
   ]
  },
  {
   "cell_type": "code",
   "execution_count": 27,
   "metadata": {
    "pycharm": {
     "name": "#%%\n"
    }
   },
   "outputs": [],
   "source": [
    "#resized_images_512_512 = save_resized_images_resx_resy(512, 512, img_from_path)"
   ]
  },
  {
   "cell_type": "markdown",
   "metadata": {
    "pycharm": {
     "name": "#%% md\n"
    }
   },
   "source": []
  },
  {
   "cell_type": "code",
   "execution_count": 28,
   "metadata": {
    "pycharm": {
     "name": "#%%\n"
    }
   },
   "outputs": [],
   "source": [
    "'''\n",
    "De las imagenes que sean pasadas por el parametro 'img_list' (lista de paths), seran convertidas y guardadas con el filtro sobel (reconocimiento de bordes)\n",
    "    - img_list: lista de imagenes que seran convertidas y guardadas con el filtro sobel\n",
    "'''\n",
    "def sobel_filter(img_list):\n",
    "\n",
    "    os.makedirs(\"out/out_sobel/patentes\", exist_ok=True)\n",
    "\n",
    "    for img in img_list:\n",
    "        im = array(Image.open(img).convert('L'), 'f')\n",
    "        imx = zeros(im.shape)\n",
    "        sobel(im, 1, imx)\n",
    "\n",
    "        imy = zeros(im.shape)\n",
    "        sobel(im, 0, imy)\n",
    "\n",
    "        magnitude = sqrt(imx**2+imy**2)\n",
    "        plt.imsave(\"out/out_sobel/{}\".format(\"/\".join(img.split(\"/\")[-2:])), arr = magnitude, cmap = plt.get_cmap('gray'))\n",
    "\n",
    "    return get_image_list_from_path(\"out/out_sobel/patentes\", [\".png\", \".jpeg\"])"
   ]
  },
  {
   "cell_type": "code",
   "execution_count": 29,
   "metadata": {
    "pycharm": {
     "name": "#%%\n"
    }
   },
   "outputs": [],
   "source": [
    "#sobel_filter_images = sobel_filter(resized_images_512_512)"
   ]
  },
  {
   "cell_type": "markdown",
   "metadata": {
    "pycharm": {
     "name": "#%% md\n"
    }
   },
   "source": []
  },
  {
   "cell_type": "code",
   "execution_count": 30,
   "metadata": {
    "pycharm": {
     "name": "#%%\n"
    }
   },
   "outputs": [],
   "source": [
    "'''\n",
    "Funcion orientada a reconocimiento de figuras en imagenes pasadas por el parametro 'img_list' (lista de paths)\n",
    "Las imagenes quedaran con bordes en rojo\n",
    "    - img_list: lista de imagenes que seran convertidas y guardadas con reconocimiento de figuras\n",
    "'''\n",
    "def detect_vehicle_license_plate(img_list):\n",
    "\n",
    "    os.makedirs(\"out/out_detection/patentes\", exist_ok=True)\n",
    "    for img_path in img_list:\n",
    "\n",
    "        img = cv2.imread(img_path)\n",
    "        gray = cv2.cvtColor(img, cv2.COLOR_BGR2GRAY)\n",
    "        _, threshold = cv2.threshold(gray, 127, 255, cv2.THRESH_BINARY)\n",
    "        contours, _ = cv2.findContours(\n",
    "            threshold, cv2.RETR_TREE, cv2.CHAIN_APPROX_SIMPLE)\n",
    "\n",
    "        i = 0\n",
    "        for contour in contours:\n",
    "            if i == 0:\n",
    "                i = 1\n",
    "                continue\n",
    "            approx = cv2.approxPolyDP(\n",
    "                contour, 0.01 * cv2.arcLength(contour, True), True)\n",
    "            cv2.drawContours(img, [contour], 0, (0, 0, 255), 5)\n",
    "            M = cv2.moments(contour)\n",
    "            if M['m00'] != 0.0:\n",
    "                x = int(M['m10']/M['m00'])\n",
    "                y = int(M['m01']/M['m00'])\n",
    "\n",
    "        cv2.imwrite('out/out_detection/{}'.format(\"/\".join(img_path.split(\"/\")[-2:])), img)"
   ]
  },
  {
   "cell_type": "code",
   "execution_count": 31,
   "outputs": [],
   "source": [
    "#detect_vehicle_license_plate(sobel_filter_images)"
   ],
   "metadata": {
    "collapsed": false,
    "pycharm": {
     "name": "#%%\n"
    }
   }
  },
  {
   "cell_type": "markdown",
   "source": [],
   "metadata": {
    "collapsed": false,
    "pycharm": {
     "name": "#%% md\n"
    }
   }
  },
  {
   "cell_type": "code",
   "execution_count": 32,
   "outputs": [],
   "source": [
    "def ocr_vehicle_license_plate(img_list):\n",
    "    list_license_plates = []\n",
    "    predicted_license_plates = []\n",
    "\n",
    "    for img_l in img_list:\n",
    "        license_plate_file = img_l\n",
    "        license_plate, _ = os.path.splitext(license_plate_file)\n",
    "\n",
    "        list_license_plates.append(license_plate)\n",
    "\n",
    "        image = cv2.imread(img_l)\n",
    "        predicted_result = pytesseract.image_to_string(image, lang = 'eng', config = '--oem 3 --psm 7 -c tessedit_char_whitelist=ABCDEFGHIJKLMNOPQRSTUVWXYZ0123456789')\n",
    "\n",
    "        filter_predicted_result = \"\".join(predicted_result.split()).replace(\":\", \"\").replace(\"-\", \"\")\n",
    "        predicted_license_plates.append(filter_predicted_result)\n",
    "\n",
    "\n",
    "    textfile = open(\"out/vehicle_license_plates.txt\", \"w\")\n",
    "    for element in predicted_license_plates:\n",
    "        if element != '':\n",
    "            textfile.write(element + \"\\n\")\n",
    "    textfile.close()\n",
    "\n",
    "    #return predicted_license_plates"
   ],
   "metadata": {
    "collapsed": false,
    "pycharm": {
     "name": "#%%\n"
    }
   }
  },
  {
   "cell_type": "code",
   "execution_count": 33,
   "outputs": [],
   "source": [
    "#ocr_vehicle_license_plate(sobel_filter_images)"
   ],
   "metadata": {
    "collapsed": false,
    "pycharm": {
     "name": "#%%\n"
    }
   }
  },
  {
   "cell_type": "markdown",
   "source": [],
   "metadata": {
    "collapsed": false,
    "pycharm": {
     "name": "#%% md\n"
    }
   }
  },
  {
   "cell_type": "code",
   "execution_count": 34,
   "outputs": [],
   "source": [
    "'''\n",
    "Funcion de ejecucion de proceso de recoleccion, pre-procesamiento, procesamiento, deteccion de figuras y reconocimiento optico de caracteres (OCR) para patentes de vehiculos\n",
    "\n",
    "    - limit: define cual es el numero de imagenes con que trabajara en todo el flujo. Por defecto es -1\n",
    "    - res_x: resolucion al eje x, por defecto 512\n",
    "    - res_y: resolucion al eje y, por defecto 512\n",
    "\n",
    "NOTA: Esta funcion generara un reporte de demora en cada uno de las funciones de ejecucion,\n",
    "como tambien de la demora general en el proceso\n",
    "\n",
    "'''\n",
    "def pipeline(limit = -1, res_x = 512, res_y = 512):\n",
    "    start = time.time()\n",
    "\n",
    "    elapsed_f_preconditions = None\n",
    "    elapsed_f_get_image_list_from_path = None\n",
    "    elapsed_f_save_resized_images_resx_resy = None\n",
    "    elapsed_f_sobel_filter = None\n",
    "    elapsed_f_detect_vehicle_license_plate = None\n",
    "    elapsed_f_ocr_vehicle_license_plate = None\n",
    "\n",
    "    print(\"-----------------------\")\n",
    "    print(\"Pre-conditions\")\n",
    "    try:\n",
    "        start_preconditions = time.time()\n",
    "        delete_dir('out')\n",
    "        #delete_file('out/vehicle_license_plates.txt')\n",
    "        end_preconditions = time.time()\n",
    "        elapsed_f_preconditions = end_preconditions - start_preconditions\n",
    "        stopwatch(elapsed_f_preconditions, 'pre-conditions block')\n",
    "    except:\n",
    "      print(\"An exception was throw executing pre-conditions block\")\n",
    "    print(\"-----------------------\")\n",
    "\n",
    "    print(\"Obtaining images\")\n",
    "    img_from_path = None\n",
    "    try:\n",
    "        start_f_get_image_list_from_path = time.time()\n",
    "        img_from_path = get_image_list_from_path(\"patentes\", [\".png\", \".jpeg\"], limit)\n",
    "        end_f_get_image_list_from_path = time.time()\n",
    "        elapsed_f_get_image_list_from_path = end_f_get_image_list_from_path - start_f_get_image_list_from_path\n",
    "        stopwatch(elapsed_f_get_image_list_from_path, 'get_image_list_from_path')\n",
    "    except:\n",
    "      print(\"An exception was throw executing 'get_image_list_from_path' function\")\n",
    "    print(\"-----------------------\")\n",
    "\n",
    "    print(\"Resolution adjust to {0}x{1}\".format(res_x, res_y))\n",
    "    resized_images = None\n",
    "    try:\n",
    "        start_f_save_resized_images_resx_resy = time.time()\n",
    "        resized_images = save_resized_images_resx_resy(res_x, res_y, img_from_path)\n",
    "        end_f_save_resized_images_resx_resy = time.time()\n",
    "        elapsed_f_save_resized_images_resx_resy = end_f_save_resized_images_resx_resy - start_f_save_resized_images_resx_resy\n",
    "        stopwatch(elapsed_f_save_resized_images_resx_resy, 'save_resized_images_resx_resy')\n",
    "    except:\n",
    "      print(\"An exception was throw executing 'save_resized_images_resx_resy' function\")\n",
    "    print(\"-----------------------\")\n",
    "\n",
    "    print(\"Sobel filter\")\n",
    "    sobel_filter_images = None\n",
    "    try:\n",
    "        start_f_sobel_filter = time.time()\n",
    "        sobel_filter_images = sobel_filter(resized_images)\n",
    "        end_f_sobel_filter = time.time()\n",
    "        elapsed_f_sobel_filter = end_f_sobel_filter - start_f_sobel_filter\n",
    "        stopwatch(elapsed_f_sobel_filter, 'sobel_filter')\n",
    "    except:\n",
    "      print(\"An exception was throw executing 'sobel_filter' function\")\n",
    "    print(\"-----------------------\")\n",
    "\n",
    "    print(\"Shape Detection\")\n",
    "    try:\n",
    "        start_f_detect_vehicle_license_plate = time.time()\n",
    "        detect_vehicle_license_plate(sobel_filter_images)\n",
    "        end_f_detect_vehicle_license_plate = time.time()\n",
    "        elapsed_f_detect_vehicle_license_plate = end_f_detect_vehicle_license_plate - start_f_detect_vehicle_license_plate\n",
    "        stopwatch(elapsed_f_detect_vehicle_license_plate, 'detect_vehicle_license_plate')\n",
    "    except:\n",
    "      print(\"An exception was throw executing 'detect_vehicle_license_plate' function\")\n",
    "    print(\"-----------------------\")\n",
    "\n",
    "    print(\"OCR Vehicle license plate\")\n",
    "    try:\n",
    "        start_f_ocr_vehicle_license_plate = time.time()\n",
    "        ocr_vehicle_license_plate(img_from_path)\n",
    "        end_f_ocr_vehicle_license_plate = time.time()\n",
    "        elapsed_f_ocr_vehicle_license_plate = end_f_ocr_vehicle_license_plate - start_f_ocr_vehicle_license_plate\n",
    "        stopwatch(elapsed_f_ocr_vehicle_license_plate, 'ocr_vehicle_license_plate')\n",
    "    except:\n",
    "      print(\"An exception was throw executing 'ocr_vehicle_license_plate' function\")\n",
    "    print(\"-----------------------\")\n",
    "    print(\"\")\n",
    "\n",
    "    elapsed = [\n",
    "        elapsed_f_preconditions,\n",
    "        elapsed_f_get_image_list_from_path,\n",
    "        elapsed_f_save_resized_images_resx_resy,\n",
    "        elapsed_f_sobel_filter,\n",
    "        elapsed_f_detect_vehicle_license_plate,\n",
    "        elapsed_f_ocr_vehicle_license_plate\n",
    "    ]\n",
    "\n",
    "    print(\"Metrics execution\")\n",
    "    print(\"Max time execution: {0}\".format(np.amax(elapsed)))\n",
    "    print(\"Min time execution: {0}\".format(np.amin(elapsed)))\n",
    "    print(\"Avg time execution: {0}\".format(np.average(elapsed)))\n",
    "    print(\"Std-Dev(+-) execution: {0}\".format(np.std(elapsed)))\n",
    "    print(\"\")\n",
    "\n",
    "\n",
    "    end = time.time()\n",
    "    stopwatch(end - start, 'pipeline')"
   ],
   "metadata": {
    "collapsed": false,
    "pycharm": {
     "name": "#%%\n"
    }
   }
  },
  {
   "cell_type": "code",
   "execution_count": 35,
   "outputs": [
    {
     "name": "stdout",
     "output_type": "stream",
     "text": [
      "-----------------------\n",
      "Pre-conditions\n",
      "Time Lapsed = 0:0:0.022248029708862305 in function 'pre-conditions block'\n",
      "-----------------------\n",
      "Obtaining images\n",
      "Time Lapsed = 0:0:0.0010938644409179688 in function 'get_image_list_from_path'\n",
      "-----------------------\n",
      "Resolution adjust to 512x512\n",
      "Time Lapsed = 0:0:1.2616462707519531 in function 'save_resized_images_resx_resy'\n",
      "-----------------------\n",
      "Sobel filter\n",
      "Time Lapsed = 0:0:1.835111141204834 in function 'sobel_filter'\n",
      "-----------------------\n",
      "Shape Detection\n",
      "Time Lapsed = 0:0:0.6712861061096191 in function 'detect_vehicle_license_plate'\n",
      "-----------------------\n",
      "OCR Vehicle license plate\n",
      "Time Lapsed = 0:0:10.442399978637695 in function 'ocr_vehicle_license_plate'\n",
      "-----------------------\n",
      "\n",
      "[0.022248029708862305, 0.0010938644409179688, 1.2616462707519531, 1.835111141204834, 0.6712861061096191, 10.442399978637695]\n",
      "Metrics execution\n",
      "Max time execution: 10.442399978637695\n",
      "Min time execution: 0.0010938644409179688\n",
      "Avg time execution: 2.3722975651423135\n",
      "Std-Dev(+-) execution: 3.6671389463056263\n",
      "\n",
      "Time Lapsed = 0:0:14.239142179489136 in function 'pipeline'\n"
     ]
    }
   ],
   "source": [
    "pipeline()"
   ],
   "metadata": {
    "collapsed": false,
    "pycharm": {
     "name": "#%%\n"
    }
   }
  },
  {
   "cell_type": "code",
   "execution_count": 36,
   "outputs": [],
   "source": [
    "#pipeline(res_x=512, res_y=192)"
   ],
   "metadata": {
    "collapsed": false,
    "pycharm": {
     "name": "#%%\n"
    }
   }
  },
  {
   "cell_type": "code",
   "execution_count": null,
   "outputs": [],
   "source": [],
   "metadata": {
    "collapsed": false,
    "pycharm": {
     "name": "#%%\n"
    }
   }
  },
  {
   "cell_type": "code",
   "execution_count": null,
   "outputs": [],
   "source": [],
   "metadata": {
    "collapsed": false,
    "pycharm": {
     "name": "#%%\n"
    }
   }
  },
  {
   "cell_type": "code",
   "execution_count": null,
   "outputs": [],
   "source": [],
   "metadata": {
    "collapsed": false,
    "pycharm": {
     "name": "#%%\n"
    }
   }
  }
 ],
 "metadata": {
  "interpreter": {
   "hash": "868b00d21a06191739a6e965b0f7d83803407b3e822955fffd883a9dfe1cb96d"
  },
  "kernelspec": {
   "display_name": "Python 3 (ipykernel)",
   "language": "python",
   "name": "python3"
  },
  "language_info": {
   "codemirror_mode": {
    "name": "ipython",
    "version": 3
   },
   "file_extension": ".py",
   "mimetype": "text/x-python",
   "name": "python",
   "nbconvert_exporter": "python",
   "pygments_lexer": "ipython3",
   "version": "3.8.12"
  }
 },
 "nbformat": 4,
 "nbformat_minor": 2
}