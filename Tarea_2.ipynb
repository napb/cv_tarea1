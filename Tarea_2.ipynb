{
 "cells": [
  {
   "cell_type": "markdown",
   "metadata": {
    "pycharm": {
     "name": "#%% md\n"
    }
   },
   "source": [
    "## Introducción a la Visión Computacional\n",
    "## Tarea 2\n",
    "-----------------------\n",
    "<div align=\"right\">\n",
    "Fecha de Entrega: Viernes 29, Abril 2022.\n",
    "</div>"
   ]
  },
  {
   "cell_type": "markdown",
   "metadata": {
    "pycharm": {
     "name": "#%% md\n"
    }
   },
   "source": [
    "1. Diseñar un flujo de procesamiento a nivel abstracto: adquisición de imágenes, pre-procesamiento, procesamiento de imágenes, cálculo de la medición, almacenamiento.\n",
    "\n",
    "2. Con la base de datos seleccionada, implementar un sistema de reconocimiento y/o procesamiento en el cual se realice una medida o inferencia sobre imagen. Puede ser la detección de un objeto, medición de distancias entre píxeles de alguna característica, medición del tamaño de algún objeto (en cantidad de píxeles) clasificación de la imagen, entre otros.\n",
    "\n",
    "3. Para procesar el conjunto completo de imágenes, medir los tiempos de ejecución del proceso completo. Realizar la medición para el 50% y el 100% de la imágenes varias veces, de manera de obtener algunas figuras estadísticas: tiempo máximo, tiempo mínimo, tiempo medio, desviación estándar del tiempo.\n",
    "\n",
    "4. Hacer resumen de los resultados del procesamiento. Para ello debe decidir una métrica para indicar si el procesamiento es satisfactorio. Para esto último algunas veces es necesario hacer la evaluación en forma manual, por lo tanto, si fuera este el caso, seleccionar un sub-conjunto de las imágenes (por ejemplo, unas 50) y comparar el desempeño del algoritmo en estas imágenes.\n",
    "\n",
    "5. Escribir un informe o entregar el notebook con comentarios y documentación, incluyendo el análisis (comentando) los resultados.\n",
    "\n",
    "Nota: de percatarse que el set de imágenes propuesto en la Tarea 1 no es el adecuado, se puede realizar un cambio en el dataset. Justificar el cambio. Este tipo de decisiones puede ocurrir en un proyecto."
   ]
  },
  {
   "cell_type": "markdown",
   "metadata": {
    "pycharm": {
     "name": "#%% md\n"
    }
   },
   "source": [
    "# Base de datos de patentes de vehiculos de Chile\n",
    "\n",
    "Base de datos recopilada por mi, en imagenes de Google, las cuales fueran fotografias de patentes de vehiculos chilenos, con esto me gustaria realizar un posterior analisis, obteniendo las letras y numeros para consultar en [autoseguro.gob.cl](https://www.autoseguro.gob.cl) de carabineros y policia de investigaciones, con el objetivo de verificar si un vehiculo tiene encargo por robo.\n",
    "\n",
    "En este caso para el pre-procesamiento de imagenes, se aplica el filtro sobel, para poder obtener la deteccion de bordes, con esto podemos tener la capacidad de detectar medianamente bien las letras y numeros de las patentes. Obteniendo estos datos, podria verificar si estos estan con encargo por robo y asi poder informar que el vehiculo fue visto por ultima vez en una locacion especifica"
   ]
  },
  {
   "cell_type": "markdown",
   "metadata": {
    "pycharm": {
     "name": "#%% md\n"
    }
   },
   "source": [
    "## Definicion funciones para pipeline de procesamiento, conversion y reconocimiento de imagenes\n",
    "Define funciones intermedias para ser referenciadas desde funcion de ejecucion de pipeline\n",
    "- obtencion de imagenes desde classpath de proyecto ```get_image_list_from_path(path, extension)```\n",
    "- pre-procesamiento de imagenes obtenidas en punto anterior con ```save_resized_images_resx_resy```\n",
    "- procesamiento de imagenes con filtro sobel ```sobel_filter```\n",
    "- reconocimiento de figuras en imagenes ```detect_vehicle_license_plate```"
   ]
  },
  {
   "cell_type": "code",
   "execution_count": 342,
   "metadata": {
    "pycharm": {
     "name": "#%%\n"
    }
   },
   "outputs": [],
   "source": [
    "import os\n",
    "\n",
    "import numpy as np\n",
    "from PIL import Image\n",
    "from numpy import *\n",
    "from scipy.ndimage import sobel\n",
    "from matplotlib import pyplot as plt\n",
    "import cv2\n",
    "import time\n",
    "from pathlib import Path\n",
    "import shutil"
   ]
  },
  {
   "cell_type": "markdown",
   "source": [
    "# Functiones utilitarias"
   ],
   "metadata": {
    "collapsed": false,
    "pycharm": {
     "name": "#%% md\n"
    }
   }
  },
  {
   "cell_type": "code",
   "execution_count": 343,
   "outputs": [],
   "source": [
    "def stopwatch(sec, function_name):\n",
    "  mins = sec // 60\n",
    "  sec = sec % 60\n",
    "  hours = mins // 60\n",
    "  mins = mins % 60\n",
    "  print(\"Time Lapsed = {0}:{1}:{2} in function '{3}'\".format(int(hours), int(mins), sec, function_name))"
   ],
   "metadata": {
    "collapsed": false,
    "pycharm": {
     "name": "#%%\n"
    }
   }
  },
  {
   "cell_type": "code",
   "execution_count": 344,
   "outputs": [],
   "source": [
    "def delete_dir(path_directory):\n",
    "    dir_path = Path(path_directory)\n",
    "    if dir_path.exists() and dir_path.is_dir():\n",
    "        shutil.rmtree(dir_path)"
   ],
   "metadata": {
    "collapsed": false,
    "pycharm": {
     "name": "#%%\n"
    }
   }
  },
  {
   "cell_type": "markdown",
   "metadata": {
    "pycharm": {
     "name": "#%% md\n"
    }
   },
   "source": [
    "# Funciones de pipeline"
   ]
  },
  {
   "cell_type": "code",
   "execution_count": 345,
   "metadata": {
    "pycharm": {
     "name": "#%%\n"
    }
   },
   "outputs": [],
   "source": [
    "'''\n",
    "Obtiene las imagenes definidas en el classpath del proyecto, con los formatos que se establecen en el segundo parametro\n",
    "    - path: direccion donde estaran alojadas las imagenes a procesar\n",
    "    - extension: lista de extensiones que seran tomadas en cuenta para obtencion de imagenes\n",
    "    - limit: limite de imagenes que obtendra desde el parametro path\n",
    "'''\n",
    "def get_image_list_from_path(path, extension, limit = -1):\n",
    "    l = []\n",
    "    for ex in extension:\n",
    "        for f in os.listdir(path):\n",
    "            if f.endswith(ex):\n",
    "                l.append(os.path.join(path,f))\n",
    "\n",
    "    if limit != -1:\n",
    "        return l[:limit]\n",
    "\n",
    "    return l"
   ]
  },
  {
   "cell_type": "code",
   "execution_count": 346,
   "metadata": {
    "pycharm": {
     "name": "#%%\n"
    }
   },
   "outputs": [],
   "source": [
    "#img_from_path = get_image_list_from_path(\"patentes\", [\".png\", \".jpeg\"])"
   ]
  },
  {
   "cell_type": "markdown",
   "metadata": {
    "pycharm": {
     "name": "#%% md\n"
    }
   },
   "source": []
  },
  {
   "cell_type": "code",
   "execution_count": 347,
   "metadata": {
    "pycharm": {
     "name": "#%%\n"
    }
   },
   "outputs": [],
   "source": [
    "'''\n",
    "Guarda las imagenes que ya fueron guardadas en el classpath, con una resolucion diferente\n",
    "    - x: resolucion al eje x\n",
    "    - y: resolucion al eje y\n",
    "    - img_list: lista de imagenes que seran procesadas a la resolucion pasada en los parametros x e y\n",
    "'''\n",
    "def save_resized_images_resx_resy(x, y, img_list):\n",
    "    os.makedirs(\"out{}x{}/patentes\".format(x, y), exist_ok=True)\n",
    "\n",
    "    for img in img_list:\n",
    "        Image.open(img).convert('RGB').resize((x, y))\\\n",
    "            .save(\"out{}x{}/{}\".format(x, y, img))\n",
    "\n",
    "    return get_image_list_from_path(\"out{}x{}/patentes\".format(x, y), [\".png\", \".jpeg\"])"
   ]
  },
  {
   "cell_type": "code",
   "execution_count": 348,
   "metadata": {
    "pycharm": {
     "name": "#%%\n"
    }
   },
   "outputs": [],
   "source": [
    "#resized_images_512_512 = save_resized_images_resx_resy(512, 512, img_from_path)"
   ]
  },
  {
   "cell_type": "markdown",
   "metadata": {
    "pycharm": {
     "name": "#%% md\n"
    }
   },
   "source": []
  },
  {
   "cell_type": "code",
   "execution_count": 349,
   "metadata": {
    "pycharm": {
     "name": "#%%\n"
    }
   },
   "outputs": [],
   "source": [
    "'''\n",
    "De las imagenes que sean pasadas por el parametro 'img_list' (lista de paths), seran convertidas y guardadas con el filtro sobel (reconocimiento de bordes)\n",
    "    - img_list: lista de imagenes que seran convertidas y guardadas con el filtro sobel\n",
    "'''\n",
    "def sobel_filter(img_list):\n",
    "\n",
    "    os.makedirs(\"out_sobel/patentes\", exist_ok=True)\n",
    "\n",
    "    for img in img_list:\n",
    "        im = array(Image.open(img).convert('L'), 'f')\n",
    "        imx = zeros(im.shape)\n",
    "        sobel(im, 1, imx)\n",
    "\n",
    "        imy = zeros(im.shape)\n",
    "        sobel(im, 0, imy)\n",
    "\n",
    "        magnitude = sqrt(imx**2+imy**2)\n",
    "        plt.imsave(\"out_sobel/{}\".format(\"/\".join(img.split(\"/\")[-2:])), arr = magnitude, cmap = plt.get_cmap('gray'))\n",
    "\n",
    "    return get_image_list_from_path(\"out_sobel/patentes\", [\".png\", \".jpeg\"])"
   ]
  },
  {
   "cell_type": "code",
   "execution_count": 350,
   "metadata": {
    "pycharm": {
     "name": "#%%\n"
    }
   },
   "outputs": [],
   "source": [
    "#sobel_filter_images = sobel_filter(resized_images_512_512)"
   ]
  },
  {
   "cell_type": "markdown",
   "metadata": {
    "pycharm": {
     "name": "#%% md\n"
    }
   },
   "source": []
  },
  {
   "cell_type": "code",
   "execution_count": 351,
   "metadata": {
    "pycharm": {
     "name": "#%%\n"
    }
   },
   "outputs": [],
   "source": [
    "'''\n",
    "Funcion orientada a reconocimiento de figuras en imagenes pasadas por el parametro 'img_list' (lista de paths)\n",
    "Las imagenes quedaran con bordes en rojo\n",
    "    - img_list: lista de imagenes que seran convertidas y guardadas con reconocimiento de figuras\n",
    "'''\n",
    "def detect_vehicle_license_plate(img_list):\n",
    "\n",
    "    os.makedirs(\"out_detection/patentes\", exist_ok=True)\n",
    "    for img_path in img_list:\n",
    "\n",
    "        img = cv2.imread(img_path)\n",
    "        gray = cv2.cvtColor(img, cv2.COLOR_BGR2GRAY)\n",
    "        _, threshold = cv2.threshold(gray, 127, 255, cv2.THRESH_BINARY)\n",
    "        contours, _ = cv2.findContours(\n",
    "            threshold, cv2.RETR_TREE, cv2.CHAIN_APPROX_SIMPLE)\n",
    "\n",
    "        i = 0\n",
    "        for contour in contours:\n",
    "            if i == 0:\n",
    "                i = 1\n",
    "                continue\n",
    "            approx = cv2.approxPolyDP(\n",
    "                contour, 0.01 * cv2.arcLength(contour, True), True)\n",
    "            cv2.drawContours(img, [contour], 0, (0, 0, 255), 5)\n",
    "            M = cv2.moments(contour)\n",
    "            if M['m00'] != 0.0:\n",
    "                x = int(M['m10']/M['m00'])\n",
    "                y = int(M['m01']/M['m00'])\n",
    "\n",
    "        cv2.imwrite('out_detection/{}'.format(\"/\".join(img_path.split(\"/\")[-2:])), img)"
   ]
  },
  {
   "cell_type": "code",
   "execution_count": 352,
   "outputs": [],
   "source": [
    "#detect_vehicle_license_plate(sobel_filter_images)"
   ],
   "metadata": {
    "collapsed": false,
    "pycharm": {
     "name": "#%%\n"
    }
   }
  },
  {
   "cell_type": "markdown",
   "source": [],
   "metadata": {
    "collapsed": false,
    "pycharm": {
     "name": "#%% md\n"
    }
   }
  },
  {
   "cell_type": "code",
   "execution_count": 374,
   "outputs": [],
   "source": [
    "'''\n",
    "Funcion de ejecucion de proceso de recoleccion, pre-procesamiento, procesamiento, deteccion\n",
    "\n",
    "    - limit: define cual es el numero de imagenes con que trabajara en todo el flujo. Por defecto es -1\n",
    "    - res_x: resolucion al eje x, por defecto 512\n",
    "    - res_y: resolucion al eje y, por defecto 512\n",
    "\n",
    "NOTA: Esta funcion generara un reporte de demora en cada uno de las funciones de ejecucion,\n",
    "como tambien de la demora general en el proceso\n",
    "\n",
    "'''\n",
    "def pipeline(limit = -1, res_x = 512, res_y = 512):\n",
    "    start = time.time()\n",
    "\n",
    "    elapsed_f_preconditions = None\n",
    "    elapsed_f_get_image_list_from_path = None\n",
    "    elapsed_f_save_resized_images_resx_resy = None\n",
    "    elapsed_f_sobel_filter = None\n",
    "    elapsed_f_detect_vehicle_license_plate = None\n",
    "\n",
    "    print(\"-----------------------\")\n",
    "    print(\"Pre-condiciones\")\n",
    "    try:\n",
    "        start_preconditions = time.time()\n",
    "        delete_dir('out_sobel')\n",
    "        delete_dir('out{}x{}'.format(res_x, res_y))\n",
    "        delete_dir('out_detection')\n",
    "        end_preconditions = time.time()\n",
    "        elapsed_f_preconditions = end_preconditions - start_preconditions\n",
    "        stopwatch(elapsed_f_preconditions, 'pre-conditions block')\n",
    "    except:\n",
    "      print(\"An exception was throw executing pre-conditions block\")\n",
    "    print(\"-----------------------\")\n",
    "\n",
    "\n",
    "\n",
    "    print(\"Obtencion de imagenes\")\n",
    "    img_from_path = None\n",
    "    try:\n",
    "        start_f_get_image_list_from_path = time.time()\n",
    "        img_from_path = get_image_list_from_path(\"patentes\", [\".png\", \".jpeg\"], limit)\n",
    "        end_f_get_image_list_from_path = time.time()\n",
    "        elapsed_f_get_image_list_from_path = end_f_get_image_list_from_path - start_f_get_image_list_from_path\n",
    "        stopwatch(elapsed_f_get_image_list_from_path, 'get_image_list_from_path')\n",
    "    except:\n",
    "      print(\"An exception was throw executing 'get_image_list_from_path' function\")\n",
    "    print(\"-----------------------\")\n",
    "\n",
    "    print(\"Ajuste de resolucion\")\n",
    "    resized_images = None\n",
    "    try:\n",
    "        start_f_save_resized_images_resx_resy = time.time()\n",
    "        resized_images = save_resized_images_resx_resy(res_x, res_y, img_from_path)\n",
    "        end_f_save_resized_images_resx_resy = time.time()\n",
    "        elapsed_f_save_resized_images_resx_resy = end_f_save_resized_images_resx_resy - start_f_save_resized_images_resx_resy\n",
    "        stopwatch(elapsed_f_save_resized_images_resx_resy, 'save_resized_images_resx_resy')\n",
    "    except:\n",
    "      print(\"An exception was throw executing 'save_resized_images_resx_resy' function\")\n",
    "    print(\"-----------------------\")\n",
    "\n",
    "    print(\"Filtro Sobel\")\n",
    "    sobel_filter_images = None\n",
    "    try:\n",
    "        start_f_sobel_filter = time.time()\n",
    "        sobel_filter_images = sobel_filter(resized_images)\n",
    "        end_f_sobel_filter = time.time()\n",
    "        elapsed_f_sobel_filter = end_f_sobel_filter - start_f_sobel_filter\n",
    "        stopwatch(elapsed_f_sobel_filter, 'sobel_filter')\n",
    "    except:\n",
    "      print(\"An exception was throw executing 'sobel_filter' function\")\n",
    "    print(\"-----------------------\")\n",
    "\n",
    "    print(\"Deteccion figuras\")\n",
    "    try:\n",
    "        start_f_detect_vehicle_license_plate = time.time()\n",
    "        detect_vehicle_license_plate(sobel_filter_images)\n",
    "        end_f_detect_vehicle_license_plate = time.time()\n",
    "        elapsed_f_detect_vehicle_license_plate = end_f_detect_vehicle_license_plate - start_f_detect_vehicle_license_plate\n",
    "        stopwatch(elapsed_f_detect_vehicle_license_plate, 'detect_vehicle_license_plate')\n",
    "    except:\n",
    "      print(\"An exception was throw executing 'detect_vehicle_license_plate' function\")\n",
    "    print(\"-----------------------\")\n",
    "    print(\"\")\n",
    "\n",
    "    elapsed = [elapsed_f_preconditions,\n",
    "               elapsed_f_get_image_list_from_path,\n",
    "               elapsed_f_save_resized_images_resx_resy,\n",
    "               elapsed_f_sobel_filter,\n",
    "               elapsed_f_detect_vehicle_license_plate]\n",
    "\n",
    "    print(\"Metrics execution\")\n",
    "    print(\"Max time execution: {0}\".format(np.amax(elapsed)))\n",
    "    print(\"Min time execution: {0}\".format(np.amin(elapsed)))\n",
    "    print(\"Avg time execution: {0}\".format(np.average(elapsed)))\n",
    "    print(\"Std-Dev(+-) execution: {0}\".format(np.std(elapsed)))\n",
    "    print(\"\")\n",
    "\n",
    "    end = time.time()\n",
    "    stopwatch(end - start, 'pipeline')"
   ],
   "metadata": {
    "collapsed": false,
    "pycharm": {
     "name": "#%%\n"
    }
   }
  },
  {
   "cell_type": "code",
   "execution_count": 375,
   "outputs": [
    {
     "name": "stdout",
     "output_type": "stream",
     "text": [
      "-----------------------\n",
      "Pre-condiciones\n",
      "Time Lapsed = 0:0:0.0009441375732421875 in function 'pre-conditions block'\n",
      "-----------------------\n",
      "Obtencion de imagenes\n",
      "Time Lapsed = 0:0:0.004998922348022461 in function 'get_image_list_from_path'\n",
      "-----------------------\n",
      "Ajuste de resolucion\n",
      "Time Lapsed = 0:0:1.1452720165252686 in function 'save_resized_images_resx_resy'\n",
      "-----------------------\n",
      "Filtro Sobel\n",
      "Time Lapsed = 0:0:1.7903649806976318 in function 'sobel_filter'\n",
      "-----------------------\n",
      "Deteccion figuras\n",
      "Time Lapsed = 0:0:0.7739520072937012 in function 'detect_vehicle_license_plate'\n",
      "-----------------------\n",
      "\n",
      "Metrics execution\n",
      "Max time execution: 1.7903649806976318\n",
      "Min time execution: 0.0009441375732421875\n",
      "Avg time execution: 0.7431064128875733\n",
      "Std-Dev(+-) execution: 0.6863011936147936\n",
      "\n",
      "Time Lapsed = 0:0:3.719256639480591 in function 'pipeline'\n"
     ]
    }
   ],
   "source": [
    "pipeline()"
   ],
   "metadata": {
    "collapsed": false,
    "pycharm": {
     "name": "#%%\n"
    }
   }
  }
 ],
 "metadata": {
  "interpreter": {
   "hash": "868b00d21a06191739a6e965b0f7d83803407b3e822955fffd883a9dfe1cb96d"
  },
  "kernelspec": {
   "display_name": "Python 3 (ipykernel)",
   "language": "python",
   "name": "python3"
  },
  "language_info": {
   "codemirror_mode": {
    "name": "ipython",
    "version": 3
   },
   "file_extension": ".py",
   "mimetype": "text/x-python",
   "name": "python",
   "nbconvert_exporter": "python",
   "pygments_lexer": "ipython3",
   "version": "3.8.12"
  }
 },
 "nbformat": 4,
 "nbformat_minor": 2
}